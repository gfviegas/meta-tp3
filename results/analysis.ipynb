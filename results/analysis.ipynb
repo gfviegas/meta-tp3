{
 "cells": [
  {
   "cell_type": "code",
   "execution_count": 1,
   "id": "92bfb8e7",
   "metadata": {},
   "outputs": [],
   "source": [
    "import pandas as pd\n",
    "import numpy as np\n",
    "import matplotlib.pyplot as plt\n",
    "import glob"
   ]
  },
  {
   "cell_type": "code",
   "execution_count": 2,
   "id": "5aa31cbb",
   "metadata": {},
   "outputs": [
    {
     "data": {
      "text/html": [
       "<style>div.output_scroll { height: 300rem; }</style>"
      ],
      "text/plain": [
       "<IPython.core.display.HTML object>"
      ]
     },
     "metadata": {},
     "output_type": "display_data"
    }
   ],
   "source": [
    "from IPython.core.display import display, HTML\n",
    "display(HTML(\"<style>div.output_scroll { height: 300rem; }</style>\"))"
   ]
  },
  {
   "cell_type": "markdown",
   "id": "88775117",
   "metadata": {},
   "source": [
    "# Configuração 1"
   ]
  },
  {
   "cell_type": "code",
   "execution_count": 25,
   "id": "58e6f46f",
   "metadata": {},
   "outputs": [
    {
     "data": {
      "text/html": [
       "<div>\n",
       "<style scoped>\n",
       "    .dataframe tbody tr th:only-of-type {\n",
       "        vertical-align: middle;\n",
       "    }\n",
       "\n",
       "    .dataframe tbody tr th {\n",
       "        vertical-align: top;\n",
       "    }\n",
       "\n",
       "    .dataframe thead th {\n",
       "        text-align: right;\n",
       "    }\n",
       "</style>\n",
       "<table border=\"1\" class=\"dataframe\">\n",
       "  <thead>\n",
       "    <tr style=\"text-align: right;\">\n",
       "      <th></th>\n",
       "      <th>gen</th>\n",
       "      <th>best_fitness</th>\n",
       "    </tr>\n",
       "  </thead>\n",
       "  <tbody>\n",
       "    <tr>\n",
       "      <th>0</th>\n",
       "      <td>0</td>\n",
       "      <td>0.721148</td>\n",
       "    </tr>\n",
       "    <tr>\n",
       "      <th>1</th>\n",
       "      <td>1</td>\n",
       "      <td>0.721148</td>\n",
       "    </tr>\n",
       "    <tr>\n",
       "      <th>2</th>\n",
       "      <td>2</td>\n",
       "      <td>0.724559</td>\n",
       "    </tr>\n",
       "    <tr>\n",
       "      <th>3</th>\n",
       "      <td>3</td>\n",
       "      <td>0.724559</td>\n",
       "    </tr>\n",
       "    <tr>\n",
       "      <th>4</th>\n",
       "      <td>4</td>\n",
       "      <td>0.724559</td>\n",
       "    </tr>\n",
       "    <tr>\n",
       "      <th>5</th>\n",
       "      <td>5</td>\n",
       "      <td>0.724559</td>\n",
       "    </tr>\n",
       "    <tr>\n",
       "      <th>6</th>\n",
       "      <td>6</td>\n",
       "      <td>0.726833</td>\n",
       "    </tr>\n",
       "    <tr>\n",
       "      <th>7</th>\n",
       "      <td>7</td>\n",
       "      <td>0.726833</td>\n",
       "    </tr>\n",
       "    <tr>\n",
       "      <th>8</th>\n",
       "      <td>8</td>\n",
       "      <td>0.726833</td>\n",
       "    </tr>\n",
       "    <tr>\n",
       "      <th>9</th>\n",
       "      <td>9</td>\n",
       "      <td>0.726833</td>\n",
       "    </tr>\n",
       "    <tr>\n",
       "      <th>10</th>\n",
       "      <td>10</td>\n",
       "      <td>0.726833</td>\n",
       "    </tr>\n",
       "  </tbody>\n",
       "</table>\n",
       "</div>"
      ],
      "text/plain": [
       "    gen  best_fitness\n",
       "0     0      0.721148\n",
       "1     1      0.721148\n",
       "2     2      0.724559\n",
       "3     3      0.724559\n",
       "4     4      0.724559\n",
       "5     5      0.724559\n",
       "6     6      0.726833\n",
       "7     7      0.726833\n",
       "8     8      0.726833\n",
       "9     9      0.726833\n",
       "10   10      0.726833"
      ]
     },
     "metadata": {},
     "output_type": "display_data"
    },
    {
     "data": {
      "text/plain": [
       "<AxesSubplot:title={'center':'Convergência - Setup 1'}, xlabel='gen'>"
      ]
     },
     "execution_count": 25,
     "metadata": {},
     "output_type": "execute_result"
    },
    {
     "data": {
      "image/png": "[encoded data removed]",
      "text/plain": [
       "<Figure size 720x360 with 1 Axes>"
      ]
     },
     "metadata": {
      "needs_background": "light"
     },
     "output_type": "display_data"
    }
   ],
   "source": [
    "df = pd.DataFrame([\n",
    "{\"gen\": 0, \"best_fitness\": 0.721148},\n",
    "{\"gen\": 1, \"best_fitness\": 0.721148},\n",
    "{\"gen\": 2, \"best_fitness\": 0.724559},\n",
    "{\"gen\": 3, \"best_fitness\": 0.724559},\n",
    "{\"gen\": 4, \"best_fitness\": 0.724559},\n",
    "{\"gen\": 5, \"best_fitness\": 0.724559},\n",
    "{\"gen\": 6, \"best_fitness\": 0.726833},\n",
    "{\"gen\": 7, \"best_fitness\": 0.726833},\n",
    "{\"gen\": 8, \"best_fitness\": 0.726833},\n",
    "{\"gen\": 9, \"best_fitness\": 0.726833},\n",
    "{\"gen\": 10, \"best_fitness\": 0.726833}\n",
    "], columns=['gen', 'best_fitness'])\n",
    "df.set_index('gen')\n",
    "\n",
    "display(df)\n",
    "\n",
    "df.plot(x='gen', y='best_fitness', kind='line', title='Convergência - Setup 1', figsize=(10,5), x_compat=True)"
   ]
  },
  {
   "cell_type": "code",
   "execution_count": 27,
   "id": "6dea4f9d",
   "metadata": {},
   "outputs": [
    {
     "data": {
      "text/html": [
       "<div>\n",
       "<style scoped>\n",
       "    .dataframe tbody tr th:only-of-type {\n",
       "        vertical-align: middle;\n",
       "    }\n",
       "\n",
       "    .dataframe tbody tr th {\n",
       "        vertical-align: top;\n",
       "    }\n",
       "\n",
       "    .dataframe thead th {\n",
       "        text-align: right;\n",
       "    }\n",
       "</style>\n",
       "<table border=\"1\" class=\"dataframe\">\n",
       "  <thead>\n",
       "    <tr style=\"text-align: right;\">\n",
       "      <th></th>\n",
       "      <th>gen</th>\n",
       "      <th>best_fitness</th>\n",
       "    </tr>\n",
       "  </thead>\n",
       "  <tbody>\n",
       "    <tr>\n",
       "      <th>0</th>\n",
       "      <td>0</td>\n",
       "      <td>0.710580</td>\n",
       "    </tr>\n",
       "    <tr>\n",
       "      <th>1</th>\n",
       "      <td>1</td>\n",
       "      <td>0.738488</td>\n",
       "    </tr>\n",
       "    <tr>\n",
       "      <th>2</th>\n",
       "      <td>2</td>\n",
       "      <td>0.743320</td>\n",
       "    </tr>\n",
       "    <tr>\n",
       "      <th>3</th>\n",
       "      <td>3</td>\n",
       "      <td>0.747300</td>\n",
       "    </tr>\n",
       "    <tr>\n",
       "      <th>4</th>\n",
       "      <td>4</td>\n",
       "      <td>0.751848</td>\n",
       "    </tr>\n",
       "    <tr>\n",
       "      <th>5</th>\n",
       "      <td>5</td>\n",
       "      <td>0.752132</td>\n",
       "    </tr>\n",
       "    <tr>\n",
       "      <th>6</th>\n",
       "      <td>6</td>\n",
       "      <td>0.752700</td>\n",
       "    </tr>\n",
       "    <tr>\n",
       "      <th>7</th>\n",
       "      <td>7</td>\n",
       "      <td>0.754122</td>\n",
       "    </tr>\n",
       "    <tr>\n",
       "      <th>8</th>\n",
       "      <td>8</td>\n",
       "      <td>0.755827</td>\n",
       "    </tr>\n",
       "    <tr>\n",
       "      <th>9</th>\n",
       "      <td>9</td>\n",
       "      <td>0.757533</td>\n",
       "    </tr>\n",
       "    <tr>\n",
       "      <th>10</th>\n",
       "      <td>10</td>\n",
       "      <td>0.760375</td>\n",
       "    </tr>\n",
       "    <tr>\n",
       "      <th>11</th>\n",
       "      <td>11</td>\n",
       "      <td>0.760944</td>\n",
       "    </tr>\n",
       "    <tr>\n",
       "      <th>12</th>\n",
       "      <td>12</td>\n",
       "      <td>0.760944</td>\n",
       "    </tr>\n",
       "    <tr>\n",
       "      <th>13</th>\n",
       "      <td>13</td>\n",
       "      <td>0.761228</td>\n",
       "    </tr>\n",
       "    <tr>\n",
       "      <th>14</th>\n",
       "      <td>14</td>\n",
       "      <td>0.761228</td>\n",
       "    </tr>\n",
       "    <tr>\n",
       "      <th>15</th>\n",
       "      <td>15</td>\n",
       "      <td>0.761228</td>\n",
       "    </tr>\n",
       "    <tr>\n",
       "      <th>16</th>\n",
       "      <td>16</td>\n",
       "      <td>0.761228</td>\n",
       "    </tr>\n",
       "    <tr>\n",
       "      <th>17</th>\n",
       "      <td>17</td>\n",
       "      <td>0.761228</td>\n",
       "    </tr>\n",
       "    <tr>\n",
       "      <th>18</th>\n",
       "      <td>18</td>\n",
       "      <td>0.761228</td>\n",
       "    </tr>\n",
       "    <tr>\n",
       "      <th>19</th>\n",
       "      <td>19</td>\n",
       "      <td>0.761228</td>\n",
       "    </tr>\n",
       "    <tr>\n",
       "      <th>20</th>\n",
       "      <td>20</td>\n",
       "      <td>0.761228</td>\n",
       "    </tr>\n",
       "  </tbody>\n",
       "</table>\n",
       "</div>"
      ],
      "text/plain": [
       "    gen  best_fitness\n",
       "0     0      0.710580\n",
       "1     1      0.738488\n",
       "2     2      0.743320\n",
       "3     3      0.747300\n",
       "4     4      0.751848\n",
       "5     5      0.752132\n",
       "6     6      0.752700\n",
       "7     7      0.754122\n",
       "8     8      0.755827\n",
       "9     9      0.757533\n",
       "10   10      0.760375\n",
       "11   11      0.760944\n",
       "12   12      0.760944\n",
       "13   13      0.761228\n",
       "14   14      0.761228\n",
       "15   15      0.761228\n",
       "16   16      0.761228\n",
       "17   17      0.761228\n",
       "18   18      0.761228\n",
       "19   19      0.761228\n",
       "20   20      0.761228"
      ]
     },
     "metadata": {},
     "output_type": "display_data"
    },
    {
     "data": {
      "text/plain": [
       "<AxesSubplot:title={'center':'Convergência - Setup 2'}, xlabel='gen'>"
      ]
     },
     "execution_count": 27,
     "metadata": {},
     "output_type": "execute_result"
    },
    {
     "data": {
      "image/png": "[encoded data removed]",
      "text/plain": [
       "<Figure size 720x360 with 1 Axes>"
      ]
     },
     "metadata": {
      "needs_background": "light"
     },
     "output_type": "display_data"
    }
   ],
   "source": [
    "df = pd.DataFrame([\n",
    "{\"gen\": 0, \"best_fitness\":  0.71058},\n",
    "{\"gen\": 1, \"best_fitness\": 0.738488},\n",
    "{\"gen\": 2, \"best_fitness\": 0.74332},\n",
    "{\"gen\": 3, \"best_fitness\": 0.7473},\n",
    "{\"gen\": 4, \"best_fitness\": 0.751848},\n",
    "{\"gen\": 5, \"best_fitness\": 0.752132},\n",
    "{\"gen\": 6, \"best_fitness\": 0.7527},\n",
    "{\"gen\": 7, \"best_fitness\": 0.754122},\n",
    "{\"gen\": 8, \"best_fitness\": 0.755827},\n",
    "{\"gen\": 9, \"best_fitness\": 0.757533},\n",
    "{\"gen\": 10, \"best_fitness\": 0.760375},\n",
    "{\"gen\": 11, \"best_fitness\": 0.760944},\n",
    "{\"gen\": 12, \"best_fitness\": 0.760944},\n",
    "{\"gen\": 13, \"best_fitness\": 0.761228},\n",
    "{\"gen\": 14, \"best_fitness\": 0.761228},\n",
    "{\"gen\": 15, \"best_fitness\": 0.761228},\n",
    "{\"gen\": 16, \"best_fitness\": 0.761228},\n",
    "{\"gen\": 17, \"best_fitness\": 0.761228},\n",
    "{\"gen\": 18, \"best_fitness\": 0.761228},\n",
    "{\"gen\": 19, \"best_fitness\": 0.761228},\n",
    "{\"gen\": 20, \"best_fitness\": 0.761228},\n",
    "], columns=['gen', 'best_fitness'])\n",
    "df.set_index('gen')\n",
    "\n",
    "display(df)\n",
    "\n",
    "df.plot(x='gen', y='best_fitness', kind='line', title='Convergência - Setup 2', figsize=(10,5), x_compat=True)"
   ]
  },
  {
   "cell_type": "code",
   "execution_count": null,
   "id": "f6baa2e9",
   "metadata": {},
   "outputs": [],
   "source": []
  }
 ],
 "metadata": {
  "kernelspec": {
   "display_name": "Python 3",
   "language": "python",
   "name": "python3"
  },
  "language_info": {
   "codemirror_mode": {
    "name": "ipython",
    "version": 3
   },
   "file_extension": ".py",
   "mimetype": "text/x-python",
   "name": "python",
   "nbconvert_exporter": "python",
   "pygments_lexer": "ipython3",
   "version": "3.9.6"
  }
 },
 "nbformat": 4,
 "nbformat_minor": 5
}
